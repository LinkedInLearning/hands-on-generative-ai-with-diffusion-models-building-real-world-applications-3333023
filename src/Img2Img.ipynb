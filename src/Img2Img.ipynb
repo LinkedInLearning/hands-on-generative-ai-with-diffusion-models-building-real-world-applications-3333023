{
  "nbformat": 4,
  "nbformat_minor": 0,
  "metadata": {
    "colab": {
      "provenance": [],
      "gpuType": "T4"
    },
    "kernelspec": {
      "name": "python3",
      "display_name": "Python 3"
    },
    "language_info": {
      "name": "python"
    },
    "accelerator": "GPU"
  },
  "cells": [
    {
      "cell_type": "markdown",
      "source": [
        "### Image to Image Translation"
      ],
      "metadata": {
        "id": "XJImWSeEkKgb"
      }
    },
    {
      "cell_type": "code",
      "execution_count": null,
      "metadata": {
        "id": "IVKYGSe7sGXt"
      },
      "outputs": [],
      "source": [
        "!pip install diffusers transformers ftfy accelerate\n",
        "import torch\n",
        "import requests\n",
        "from PIL import Image\n",
        "from io import BytesIO\n",
        "from diffusers import AutoPipelineForImage2Image\n",
        "from diffusers.utils import load_image, make_image_grid\n"
      ]
    },
    {
      "cell_type": "code",
      "source": [
        "device = \"cuda\"\n",
        "pipe = AutoPipelineForImage2Image.from_pretrained(\"runwayml/stable-diffusion-v1-5\").to(device)\n"
      ],
      "metadata": {
        "id": "Na66ZGtNw4Ur"
      },
      "execution_count": null,
      "outputs": []
    },
    {
      "cell_type": "code",
      "source": [
        "init_image = load_image(\"/content/Rhinoceros_LIL_53344.jpeg\")\n",
        "init_image.thumbnail((768, 768))\n",
        "init_image"
      ],
      "metadata": {
        "id": "Bg6i2w_rsLCS"
      },
      "execution_count": null,
      "outputs": []
    },
    {
      "cell_type": "code",
      "source": [
        "prompt = \"a fantasy landscape with castles oil on canvas, realistic\"\n",
        "generator = torch.Generator(device=device).manual_seed(1024)\n",
        "image = pipe(prompt, init_image,  generator=generator).images[0]\n",
        "image"
      ],
      "metadata": {
        "id": "T0xF5iIrsRFO"
      },
      "execution_count": null,
      "outputs": []
    }
  ]
}